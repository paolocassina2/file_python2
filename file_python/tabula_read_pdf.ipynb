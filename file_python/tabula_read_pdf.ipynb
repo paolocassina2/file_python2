{
 "cells": [
  {
   "cell_type": "code",
   "execution_count": 57,
   "id": "f41166a0",
   "metadata": {},
   "outputs": [
    {
     "name": "stdout",
     "output_type": "stream",
     "text": [
      "['9Colmen2022 _trail(1).pdf', 'baradello22.pdf', 'campestre castel goffredo2022.pdf', 'Campestre_2022_2_classifica_completa.pdf', 'gtt_assoluta22 (1).pdf', 'tovo_csi_cross-2022-1.pdf']\n"
     ]
    }
   ],
   "source": [
    "# importing the library  \n",
    "import tabula  \n",
    "# address of the file  \n",
    "myfile =\"C:\\\\Users\\\\Attilio\\\\Desktop\\\\foto_gare_e_classifiche\\\\vecchie_classifiche\\\\classifiche2022\" \n",
    "\n",
    "# using the read_pdf() function  \n",
    "\n",
    "from tabula import read_pdf\n",
    "from tabulate import tabulate\n",
    "\n",
    "from os import listdir\n",
    "from os.path import isfile, join\n",
    "onlyfiles = [f for f in listdir(myfile) if isfile(join(myfile, f))]\n",
    "print(onlyfiles)\n",
    "df = tabula.read_pdf(\"C:\\\\Users\\\\Attilio\\\\Desktop\\\\foto_gare_e_classifiche\\\\vecchie_classifiche\\\\classifiche2022\\\\baradello22.pdf\", pages='2', multiple_tables=True)\n",
    "df\n",
    "def ciao():\n",
    "    for x in onlyfiles:\n",
    "        try:\n",
    "            path1 =\"C:\\\\Users\\\\Attilio\\\\Desktop\\\\foto_gare_e_classifiche\\\\vecchie_classifiche\\\\classifiche2022\\\\\"+str(x) \n",
    "            print(path1)\n",
    "            df = read_pdf(path1,pages=\"all\") #address of pdf file\n",
    "            df \n",
    "        except:\n",
    "            continue"
   ]
  },
  {
   "cell_type": "code",
   "execution_count": null,
   "id": "6c297b01",
   "metadata": {},
   "outputs": [],
   "source": []
  },
  {
   "cell_type": "code",
   "execution_count": null,
   "id": "0630bed3",
   "metadata": {},
   "outputs": [],
   "source": []
  },
  {
   "cell_type": "code",
   "execution_count": null,
   "id": "5124f232",
   "metadata": {},
   "outputs": [],
   "source": []
  },
  {
   "cell_type": "code",
   "execution_count": null,
   "id": "8c95583a",
   "metadata": {},
   "outputs": [],
   "source": []
  }
 ],
 "metadata": {
  "kernelspec": {
   "display_name": "Python 3",
   "language": "python",
   "name": "python3"
  },
  "language_info": {
   "codemirror_mode": {
    "name": "ipython",
    "version": 3
   },
   "file_extension": ".py",
   "mimetype": "text/x-python",
   "name": "python",
   "nbconvert_exporter": "python",
   "pygments_lexer": "ipython3",
   "version": "3.8.8"
  }
 },
 "nbformat": 4,
 "nbformat_minor": 5
}
