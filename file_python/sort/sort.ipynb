{
 "cells": [
  {
   "cell_type": "markdown",
   "metadata": {},
   "source": [
    "Visualisations of the below algorithms and others can be found here: https://visualgo.net/en/sorting"
   ]
  },
  {
   "cell_type": "markdown",
   "metadata": {},
   "source": [
    "# Selection sort"
   ]
  },
  {
   "cell_type": "code",
   "execution_count": 1,
   "metadata": {},
   "outputs": [],
   "source": [
    "b = [23, 543, 532, 43, 54, 53, 8, 5, 2, 3]\n"
   ]
  },
  {
   "cell_type": "code",
   "execution_count": 2,
   "metadata": {},
   "outputs": [
    {
     "data": {
      "text/plain": [
       "[2, 3, 5, 8, 54, 53, 43, 532, 23, 543]"
      ]
     },
     "execution_count": 2,
     "metadata": {},
     "output_type": "execute_result"
    }
   ],
   "source": [
    "[23, 543, 532, 43, 54, 53, 8, 5, 2, 3]\n",
    "[2, 543, 532, 43, 54, 53, 8, 5, 23, 3]\n",
    "[2, 3, 532, 43, 54, 53, 8, 5, 23, 543]\n",
    "[2, 3, 5, 43, 54, 53, 8, 532, 23, 543]\n",
    "[2, 3, 5, 8, 54, 53, 43, 532, 23, 543]\n"
   ]
  },
  {
   "cell_type": "code",
   "execution_count": 3,
   "metadata": {},
   "outputs": [
    {
     "name": "stdout",
     "output_type": "stream",
     "text": [
      "[23, 543, 532, 43, 54, 53, 8, 5, 2, 3]\n",
      "Searching minimim for 0\n",
      "8 at position 6 is a candidate better than 23 at position 0\n",
      "5 at position 7 is a candidate better than 8 at position 6\n",
      "2 at position 8 is a candidate better than 5 at position 7\n",
      "[2, 543, 532, 43, 54, 53, 8, 5, 23, 3]\n",
      "Searching minimim for 1\n",
      "532 at position 2 is a candidate better than 543 at position 1\n",
      "43 at position 3 is a candidate better than 532 at position 2\n",
      "8 at position 6 is a candidate better than 43 at position 3\n",
      "5 at position 7 is a candidate better than 8 at position 6\n",
      "3 at position 9 is a candidate better than 5 at position 7\n",
      "[2, 3, 532, 43, 54, 53, 8, 5, 23, 543]\n",
      "Searching minimim for 2\n",
      "43 at position 3 is a candidate better than 532 at position 2\n",
      "8 at position 6 is a candidate better than 43 at position 3\n",
      "5 at position 7 is a candidate better than 8 at position 6\n",
      "[2, 3, 5, 43, 54, 53, 8, 532, 23, 543]\n",
      "Searching minimim for 3\n",
      "8 at position 6 is a candidate better than 43 at position 3\n",
      "[2, 3, 5, 8, 54, 53, 43, 532, 23, 543]\n",
      "Searching minimim for 4\n",
      "53 at position 5 is a candidate better than 54 at position 4\n",
      "43 at position 6 is a candidate better than 53 at position 5\n",
      "23 at position 8 is a candidate better than 43 at position 6\n",
      "[2, 3, 5, 8, 23, 53, 43, 532, 54, 543]\n",
      "Searching minimim for 5\n",
      "43 at position 6 is a candidate better than 53 at position 5\n",
      "[2, 3, 5, 8, 23, 43, 53, 532, 54, 543]\n",
      "Searching minimim for 6\n",
      "[2, 3, 5, 8, 23, 43, 53, 532, 54, 543]\n",
      "Searching minimim for 7\n",
      "54 at position 8 is a candidate better than 532 at position 7\n",
      "[2, 3, 5, 8, 23, 43, 53, 54, 532, 543]\n",
      "Searching minimim for 8\n",
      "[2, 3, 5, 8, 23, 43, 53, 54, 532, 543]\n",
      "Searching minimim for 9\n"
     ]
    },
    {
     "data": {
      "text/plain": [
       "[2, 3, 5, 8, 23, 43, 53, 54, 532, 543]"
      ]
     },
     "execution_count": 3,
     "metadata": {},
     "output_type": "execute_result"
    }
   ],
   "source": [
    "b = [23, 543, 532, 43, 54, 53, 8, 5, 2, 3]\n",
    "\n",
    "def selection_sort(collection):\n",
    "    # which relative minimal position are we trying to find\n",
    "    for i, v in enumerate(collection):\n",
    "        min_index = i\n",
    "        print(collection)\n",
    "        print(f\"Searching minimim for {i}\")\n",
    "        # where do we search for it - in the yet unsorted part of the collection\n",
    "        # its enumeration starts from 0,\n",
    "        # so to convert to the original indices, we need to add the index of the starting point\n",
    "        for j, w in enumerate(collection[i+1:]):\n",
    "            if w < collection[min_index]:\n",
    "                print(f\"{w} at position {(i+1)+j} is a candidate better than {collection[min_index]} at position {min_index}\")\n",
    "                min_index = (i+1)+j\n",
    "        t = collection[i]\n",
    "        collection[i] = collection[min_index]\n",
    "        collection[min_index] = t\n",
    "    return collection\n",
    "\n",
    "selection_sort(b)"
   ]
  },
  {
   "cell_type": "markdown",
   "metadata": {},
   "source": [
    "# Bubble sort"
   ]
  },
  {
   "cell_type": "code",
   "execution_count": 4,
   "metadata": {},
   "outputs": [],
   "source": [
    "b = [23, 543, 532, 43, 54, 53, 8, 5, 2, 3]\n"
   ]
  },
  {
   "cell_type": "code",
   "execution_count": 5,
   "metadata": {},
   "outputs": [
    {
     "data": {
      "text/plain": [
       "[23, 43, 53, 2, 3, 5, 8, 54, 532, 543]"
      ]
     },
     "execution_count": 5,
     "metadata": {},
     "output_type": "execute_result"
    }
   ],
   "source": [
    "[23, 543, 532, 43, 54, 53, 8, 5, 2, 3]\n",
    "[23, 532, 543, 43, 54, 53, 8, 5, 2, 3]\n",
    "[23, 532, 43, 543, 54, 53, 8, 5, 2, 3]\n",
    "[23, 532, 43, 54, 543, 53, 8, 5, 2, 3]\n",
    "...\n",
    "[23, 532, 43, 54, 53, 8, 5, 2, 3, 543]\n",
    "...\n",
    "[23, 43, 54, 53, 8, 5, 2, 3, 532, 543]\n",
    "[23, 43, 53, 8, 5, 2, 3, 54, 532, 543]\n",
    "[23, 43, 53, 2, 3, 5, 8, 54, 532, 543]\n",
    "[23, 43, 53, 2, 3, 5, 8, 54, 532, 543]\n"
   ]
  },
  {
   "cell_type": "code",
   "execution_count": 6,
   "metadata": {},
   "outputs": [
    {
     "name": "stdout",
     "output_type": "stream",
     "text": [
      "[23, 21, 55, 43, 12, 543, 13, 532, 43, 100, 54, 150, 53, 8, 5, 11, 2, 33, 3]\n",
      "[21, 23, 43, 12, 55, 13, 532, 43, 100, 54, 150, 53, 8, 5, 11, 2, 33, 3, 543]\n",
      "[21, 23, 12, 43, 13, 55, 43, 100, 54, 150, 53, 8, 5, 11, 2, 33, 3, 532, 543]\n",
      "[21, 12, 23, 13, 43, 43, 55, 54, 100, 53, 8, 5, 11, 2, 33, 3, 150, 532, 543]\n",
      "[12, 21, 13, 23, 43, 43, 54, 55, 53, 8, 5, 11, 2, 33, 3, 100, 150, 532, 543]\n",
      "[12, 13, 21, 23, 43, 43, 54, 53, 8, 5, 11, 2, 33, 3, 55, 100, 150, 532, 543]\n",
      "[12, 13, 21, 23, 43, 43, 53, 8, 5, 11, 2, 33, 3, 54, 55, 100, 150, 532, 543]\n",
      "[12, 13, 21, 23, 43, 43, 8, 5, 11, 2, 33, 3, 53, 54, 55, 100, 150, 532, 543]\n",
      "[12, 13, 21, 23, 43, 8, 5, 11, 2, 33, 3, 43, 53, 54, 55, 100, 150, 532, 543]\n",
      "[12, 13, 21, 23, 8, 5, 11, 2, 33, 3, 43, 43, 53, 54, 55, 100, 150, 532, 543]\n",
      "[12, 13, 21, 8, 5, 11, 2, 23, 3, 33, 43, 43, 53, 54, 55, 100, 150, 532, 543]\n",
      "[12, 13, 8, 5, 11, 2, 21, 3, 23, 33, 43, 43, 53, 54, 55, 100, 150, 532, 543]\n",
      "[12, 8, 5, 11, 2, 13, 3, 21, 23, 33, 43, 43, 53, 54, 55, 100, 150, 532, 543]\n",
      "[8, 5, 11, 2, 12, 3, 13, 21, 23, 33, 43, 43, 53, 54, 55, 100, 150, 532, 543]\n",
      "[5, 8, 2, 11, 3, 12, 13, 21, 23, 33, 43, 43, 53, 54, 55, 100, 150, 532, 543]\n",
      "[5, 2, 8, 3, 11, 12, 13, 21, 23, 33, 43, 43, 53, 54, 55, 100, 150, 532, 543]\n",
      "[2, 5, 3, 8, 11, 12, 13, 21, 23, 33, 43, 43, 53, 54, 55, 100, 150, 532, 543]\n",
      "[2, 3, 5, 8, 11, 12, 13, 21, 23, 33, 43, 43, 53, 54, 55, 100, 150, 532, 543]\n",
      "[2, 3, 5, 8, 11, 12, 13, 21, 23, 33, 43, 43, 53, 54, 55, 100, 150, 532, 543]\n"
     ]
    },
    {
     "data": {
      "text/plain": [
       "[2, 3, 5, 8, 11, 12, 13, 21, 23, 33, 43, 43, 53, 54, 55, 100, 150, 532, 543]"
      ]
     },
     "execution_count": 6,
     "metadata": {},
     "output_type": "execute_result"
    }
   ],
   "source": [
    "b = [23, 21, 55, 43, 12, 543, 13, 532, 43, 100, 54, 150, 53, 8, 5, 11, 2, 33, 3]\n",
    "\n",
    "def bubble_sort(collection):\n",
    "    swaps = True\n",
    "    while swaps:\n",
    "        swaps = False\n",
    "        # print(len(collection)-1)\n",
    "        for i in range(len(collection)-1):\n",
    "            # print(i)\n",
    "            if collection[i] > collection[i+1]:\n",
    "                t = collection[i]\n",
    "                collection[i] = collection[i+1]\n",
    "                collection[i+1] = t\n",
    "                swaps = True\n",
    "        print(collection)\n",
    "    \n",
    "    return collection\n",
    "\n",
    "print(b)\n",
    "bubble_sort(b)"
   ]
  }
 ],
 "metadata": {
  "kernelspec": {
   "display_name": "Python 3",
   "language": "python",
   "name": "python3"
  },
  "language_info": {
   "codemirror_mode": {
    "name": "ipython",
    "version": 3
   },
   "file_extension": ".py",
   "mimetype": "text/x-python",
   "name": "python",
   "nbconvert_exporter": "python",
   "pygments_lexer": "ipython3",
   "version": "3.8.10"
  }
 },
 "nbformat": 4,
 "nbformat_minor": 4
}
